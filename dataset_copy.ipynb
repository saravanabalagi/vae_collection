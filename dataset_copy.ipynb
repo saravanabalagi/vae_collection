{
 "cells": [
  {
   "cell_type": "code",
   "execution_count": 1,
   "source": [
    "import os\n",
    "import pandas as pd\n",
    "import numpy as np\n",
    "import json"
   ],
   "outputs": [],
   "metadata": {}
  },
  {
   "cell_type": "code",
   "execution_count": 2,
   "source": [
    "src = '/cephshare/compsci/public/oxford_robotcar'\n",
    "os.path.exists(src)"
   ],
   "outputs": [
    {
     "output_type": "execute_result",
     "data": {
      "text/plain": [
       "True"
      ]
     },
     "metadata": {},
     "execution_count": 2
    }
   ],
   "metadata": {}
  },
  {
   "cell_type": "code",
   "execution_count": 3,
   "source": [
    "dest = '/fastscratch/data/oxford_robotcar_sampled'\n",
    "os.path.exists(dest)"
   ],
   "outputs": [
    {
     "output_type": "execute_result",
     "data": {
      "text/plain": [
       "True"
      ]
     },
     "metadata": {},
     "execution_count": 3
    }
   ],
   "metadata": {}
  },
  {
   "cell_type": "code",
   "execution_count": 5,
   "source": [
    "csv_root = 'data/oxford_robotcar_csv/'\n",
    "routes = os.listdir(csv_root)\n",
    "route = routes[1]\n",
    "route"
   ],
   "outputs": [
    {
     "output_type": "execute_result",
     "data": {
      "text/plain": [
       "'2014-12-10-18-10-50'"
      ]
     },
     "metadata": {},
     "execution_count": 5
    }
   ],
   "metadata": {}
  },
  {
   "cell_type": "code",
   "execution_count": 6,
   "source": [
    "csv_file = os.path.join(csv_root, route, 'stereoCentre.csv')\n",
    "os.path.exists(csv_file)"
   ],
   "outputs": [
    {
     "output_type": "execute_result",
     "data": {
      "text/plain": [
       "True"
      ]
     },
     "metadata": {},
     "execution_count": 6
    }
   ],
   "metadata": {}
  },
  {
   "cell_type": "code",
   "execution_count": 7,
   "source": [
    "df = pd.read_csv(csv_file, comment='#')\n",
    "df['imgs'] = df['imgs'].apply(lambda x: json.loads(x)['stereoCentre'])\n",
    "df = df.rename(columns={'imgs': 'img'})\n",
    "df = df.set_index(['img'], append=True, drop=False)\n",
    "df"
   ],
   "outputs": [
    {
     "output_type": "execute_result",
     "data": {
      "text/plain": [
       "                              timestamp              ins_status   latitude  \\\n",
       "     img                                                                     \n",
       "0    1418235093751464.jpg  1.418235e+09  INS_ALIGNMENT_COMPLETE  51.760643   \n",
       "1    1418235158429962.jpg  1.418235e+09  INS_ALIGNMENT_COMPLETE  51.760636   \n",
       "2    1418235159304840.jpg  1.418235e+09  INS_ALIGNMENT_COMPLETE  51.760640   \n",
       "3    1418235160117227.jpg  1.418235e+09  INS_ALIGNMENT_COMPLETE  51.760651   \n",
       "4    1418235161117089.jpg  1.418235e+09  INS_ALIGNMENT_COMPLETE  51.760670   \n",
       "...                                 ...                     ...        ...   \n",
       "1874 1418237474988127.jpg  1.418237e+09       INS_SOLUTION_GOOD  51.760603   \n",
       "1875 1418237477800245.jpg  1.418237e+09       INS_SOLUTION_GOOD  51.760608   \n",
       "1876 1418237481799702.jpg  1.418237e+09       INS_SOLUTION_GOOD  51.760616   \n",
       "1877 1418237485361717.jpg  1.418237e+09       INS_SOLUTION_GOOD  51.760625   \n",
       "1878 1418237488048854.jpg  1.418237e+09       INS_SOLUTION_GOOD  51.760625   \n",
       "\n",
       "                           longitude    altitude      northing        easting  \\\n",
       "     img                                                                        \n",
       "0    1418235093751464.jpg  -1.261250  116.869707  5.735847e+06  619997.428877   \n",
       "1    1418235158429962.jpg  -1.261304  116.269809  5.735846e+06  619993.691035   \n",
       "2    1418235159304840.jpg  -1.261335  116.188112  5.735847e+06  619991.559690   \n",
       "3    1418235160117227.jpg  -1.261365  116.208231  5.735848e+06  619989.498468   \n",
       "4    1418235161117089.jpg  -1.261395  116.138729  5.735850e+06  619987.378397   \n",
       "...                              ...         ...           ...            ...   \n",
       "1874 1418237474988127.jpg  -1.261280  106.577850  5.735843e+06  619995.470619   \n",
       "1875 1418237477800245.jpg  -1.261210  106.504666  5.735843e+06  620000.272374   \n",
       "1876 1418237481799702.jpg  -1.261143  106.955395  5.735844e+06  620004.856797   \n",
       "1877 1418237485361717.jpg  -1.261076  106.962010  5.735845e+06  620009.457797   \n",
       "1878 1418237488048854.jpg  -1.261075  106.951091  5.735845e+06  620009.526495   \n",
       "\n",
       "                                 down utm_zone  velocity_north  velocity_east  \\\n",
       "     img                                                                        \n",
       "0    1418235093751464.jpg -116.869707      30U        0.004043       0.001973   \n",
       "1    1418235158429962.jpg -116.269809      30U        0.293457      -2.338696   \n",
       "2    1418235159304840.jpg -116.188112      30U        1.042267      -2.534675   \n",
       "3    1418235160117227.jpg -116.208231      30U        1.800665      -2.383020   \n",
       "4    1418235161117089.jpg -116.138729      30U        2.619437      -1.947856   \n",
       "...                               ...      ...             ...            ...   \n",
       "1874 1418237474988127.jpg -106.577850      30U       -0.052267       1.794400   \n",
       "1875 1418237477800245.jpg -106.504666      30U        0.374459       1.776046   \n",
       "1876 1418237481799702.jpg -106.955395      30U        0.227145       1.015413   \n",
       "1877 1418237485361717.jpg -106.962010      30U        0.081973       0.383761   \n",
       "1878 1418237488048854.jpg -106.951091      30U        0.006053      -0.003959   \n",
       "\n",
       "                           velocity_down        roll     pitch          yaw  \\\n",
       "     img                                                                      \n",
       "0    1418235093751464.jpg      -0.010052    3.065095  0.030711   268.257235   \n",
       "1    1418235158429962.jpg      -0.012045    1.746806  1.039110   278.556805   \n",
       "2    1418235159304840.jpg       0.035982    1.437672  0.856648   293.636456   \n",
       "3    1418235160117227.jpg      -0.115024    1.074657  0.104371   309.264077   \n",
       "4    1418235161117089.jpg       0.037962    0.601909 -0.576518   324.458299   \n",
       "...                                  ...         ...       ...          ...   \n",
       "1874 1418237474988127.jpg       0.107705    0.736628 -0.248795    90.858947   \n",
       "1875 1418237477800245.jpg      -0.034608    1.057135  3.992122    77.831133   \n",
       "1876 1418237481799702.jpg      -0.087566    2.695635  2.555356    77.053031   \n",
       "1877 1418237485361717.jpg       0.029722    3.222464  0.015281    78.499447   \n",
       "1878 1418237488048854.jpg       0.022816  186.039919  6.985812  4502.119416   \n",
       "\n",
       "                                            img  index  \n",
       "     img                                                \n",
       "0    1418235093751464.jpg  1418235093751464.jpg      0  \n",
       "1    1418235158429962.jpg  1418235158429962.jpg   1035  \n",
       "2    1418235159304840.jpg  1418235159304840.jpg   1049  \n",
       "3    1418235160117227.jpg  1418235160117227.jpg   1062  \n",
       "4    1418235161117089.jpg  1418235161117089.jpg   1078  \n",
       "...                                         ...    ...  \n",
       "1874 1418237474988127.jpg  1418237474988127.jpg  38105  \n",
       "1875 1418237477800245.jpg  1418237477800245.jpg  38150  \n",
       "1876 1418237481799702.jpg  1418237481799702.jpg  38214  \n",
       "1877 1418237485361717.jpg  1418237485361717.jpg  38271  \n",
       "1878 1418237488048854.jpg  1418237488048854.jpg  38313  \n",
       "\n",
       "[1879 rows x 17 columns]"
      ],
      "text/html": [
       "<div>\n",
       "<style scoped>\n",
       "    .dataframe tbody tr th:only-of-type {\n",
       "        vertical-align: middle;\n",
       "    }\n",
       "\n",
       "    .dataframe tbody tr th {\n",
       "        vertical-align: top;\n",
       "    }\n",
       "\n",
       "    .dataframe thead th {\n",
       "        text-align: right;\n",
       "    }\n",
       "</style>\n",
       "<table border=\"1\" class=\"dataframe\">\n",
       "  <thead>\n",
       "    <tr style=\"text-align: right;\">\n",
       "      <th></th>\n",
       "      <th></th>\n",
       "      <th>timestamp</th>\n",
       "      <th>ins_status</th>\n",
       "      <th>latitude</th>\n",
       "      <th>longitude</th>\n",
       "      <th>altitude</th>\n",
       "      <th>northing</th>\n",
       "      <th>easting</th>\n",
       "      <th>down</th>\n",
       "      <th>utm_zone</th>\n",
       "      <th>velocity_north</th>\n",
       "      <th>velocity_east</th>\n",
       "      <th>velocity_down</th>\n",
       "      <th>roll</th>\n",
       "      <th>pitch</th>\n",
       "      <th>yaw</th>\n",
       "      <th>img</th>\n",
       "      <th>index</th>\n",
       "    </tr>\n",
       "    <tr>\n",
       "      <th></th>\n",
       "      <th>img</th>\n",
       "      <th></th>\n",
       "      <th></th>\n",
       "      <th></th>\n",
       "      <th></th>\n",
       "      <th></th>\n",
       "      <th></th>\n",
       "      <th></th>\n",
       "      <th></th>\n",
       "      <th></th>\n",
       "      <th></th>\n",
       "      <th></th>\n",
       "      <th></th>\n",
       "      <th></th>\n",
       "      <th></th>\n",
       "      <th></th>\n",
       "      <th></th>\n",
       "      <th></th>\n",
       "    </tr>\n",
       "  </thead>\n",
       "  <tbody>\n",
       "    <tr>\n",
       "      <th>0</th>\n",
       "      <th>1418235093751464.jpg</th>\n",
       "      <td>1.418235e+09</td>\n",
       "      <td>INS_ALIGNMENT_COMPLETE</td>\n",
       "      <td>51.760643</td>\n",
       "      <td>-1.261250</td>\n",
       "      <td>116.869707</td>\n",
       "      <td>5.735847e+06</td>\n",
       "      <td>619997.428877</td>\n",
       "      <td>-116.869707</td>\n",
       "      <td>30U</td>\n",
       "      <td>0.004043</td>\n",
       "      <td>0.001973</td>\n",
       "      <td>-0.010052</td>\n",
       "      <td>3.065095</td>\n",
       "      <td>0.030711</td>\n",
       "      <td>268.257235</td>\n",
       "      <td>1418235093751464.jpg</td>\n",
       "      <td>0</td>\n",
       "    </tr>\n",
       "    <tr>\n",
       "      <th>1</th>\n",
       "      <th>1418235158429962.jpg</th>\n",
       "      <td>1.418235e+09</td>\n",
       "      <td>INS_ALIGNMENT_COMPLETE</td>\n",
       "      <td>51.760636</td>\n",
       "      <td>-1.261304</td>\n",
       "      <td>116.269809</td>\n",
       "      <td>5.735846e+06</td>\n",
       "      <td>619993.691035</td>\n",
       "      <td>-116.269809</td>\n",
       "      <td>30U</td>\n",
       "      <td>0.293457</td>\n",
       "      <td>-2.338696</td>\n",
       "      <td>-0.012045</td>\n",
       "      <td>1.746806</td>\n",
       "      <td>1.039110</td>\n",
       "      <td>278.556805</td>\n",
       "      <td>1418235158429962.jpg</td>\n",
       "      <td>1035</td>\n",
       "    </tr>\n",
       "    <tr>\n",
       "      <th>2</th>\n",
       "      <th>1418235159304840.jpg</th>\n",
       "      <td>1.418235e+09</td>\n",
       "      <td>INS_ALIGNMENT_COMPLETE</td>\n",
       "      <td>51.760640</td>\n",
       "      <td>-1.261335</td>\n",
       "      <td>116.188112</td>\n",
       "      <td>5.735847e+06</td>\n",
       "      <td>619991.559690</td>\n",
       "      <td>-116.188112</td>\n",
       "      <td>30U</td>\n",
       "      <td>1.042267</td>\n",
       "      <td>-2.534675</td>\n",
       "      <td>0.035982</td>\n",
       "      <td>1.437672</td>\n",
       "      <td>0.856648</td>\n",
       "      <td>293.636456</td>\n",
       "      <td>1418235159304840.jpg</td>\n",
       "      <td>1049</td>\n",
       "    </tr>\n",
       "    <tr>\n",
       "      <th>3</th>\n",
       "      <th>1418235160117227.jpg</th>\n",
       "      <td>1.418235e+09</td>\n",
       "      <td>INS_ALIGNMENT_COMPLETE</td>\n",
       "      <td>51.760651</td>\n",
       "      <td>-1.261365</td>\n",
       "      <td>116.208231</td>\n",
       "      <td>5.735848e+06</td>\n",
       "      <td>619989.498468</td>\n",
       "      <td>-116.208231</td>\n",
       "      <td>30U</td>\n",
       "      <td>1.800665</td>\n",
       "      <td>-2.383020</td>\n",
       "      <td>-0.115024</td>\n",
       "      <td>1.074657</td>\n",
       "      <td>0.104371</td>\n",
       "      <td>309.264077</td>\n",
       "      <td>1418235160117227.jpg</td>\n",
       "      <td>1062</td>\n",
       "    </tr>\n",
       "    <tr>\n",
       "      <th>4</th>\n",
       "      <th>1418235161117089.jpg</th>\n",
       "      <td>1.418235e+09</td>\n",
       "      <td>INS_ALIGNMENT_COMPLETE</td>\n",
       "      <td>51.760670</td>\n",
       "      <td>-1.261395</td>\n",
       "      <td>116.138729</td>\n",
       "      <td>5.735850e+06</td>\n",
       "      <td>619987.378397</td>\n",
       "      <td>-116.138729</td>\n",
       "      <td>30U</td>\n",
       "      <td>2.619437</td>\n",
       "      <td>-1.947856</td>\n",
       "      <td>0.037962</td>\n",
       "      <td>0.601909</td>\n",
       "      <td>-0.576518</td>\n",
       "      <td>324.458299</td>\n",
       "      <td>1418235161117089.jpg</td>\n",
       "      <td>1078</td>\n",
       "    </tr>\n",
       "    <tr>\n",
       "      <th>...</th>\n",
       "      <th>...</th>\n",
       "      <td>...</td>\n",
       "      <td>...</td>\n",
       "      <td>...</td>\n",
       "      <td>...</td>\n",
       "      <td>...</td>\n",
       "      <td>...</td>\n",
       "      <td>...</td>\n",
       "      <td>...</td>\n",
       "      <td>...</td>\n",
       "      <td>...</td>\n",
       "      <td>...</td>\n",
       "      <td>...</td>\n",
       "      <td>...</td>\n",
       "      <td>...</td>\n",
       "      <td>...</td>\n",
       "      <td>...</td>\n",
       "      <td>...</td>\n",
       "    </tr>\n",
       "    <tr>\n",
       "      <th>1874</th>\n",
       "      <th>1418237474988127.jpg</th>\n",
       "      <td>1.418237e+09</td>\n",
       "      <td>INS_SOLUTION_GOOD</td>\n",
       "      <td>51.760603</td>\n",
       "      <td>-1.261280</td>\n",
       "      <td>106.577850</td>\n",
       "      <td>5.735843e+06</td>\n",
       "      <td>619995.470619</td>\n",
       "      <td>-106.577850</td>\n",
       "      <td>30U</td>\n",
       "      <td>-0.052267</td>\n",
       "      <td>1.794400</td>\n",
       "      <td>0.107705</td>\n",
       "      <td>0.736628</td>\n",
       "      <td>-0.248795</td>\n",
       "      <td>90.858947</td>\n",
       "      <td>1418237474988127.jpg</td>\n",
       "      <td>38105</td>\n",
       "    </tr>\n",
       "    <tr>\n",
       "      <th>1875</th>\n",
       "      <th>1418237477800245.jpg</th>\n",
       "      <td>1.418237e+09</td>\n",
       "      <td>INS_SOLUTION_GOOD</td>\n",
       "      <td>51.760608</td>\n",
       "      <td>-1.261210</td>\n",
       "      <td>106.504666</td>\n",
       "      <td>5.735843e+06</td>\n",
       "      <td>620000.272374</td>\n",
       "      <td>-106.504666</td>\n",
       "      <td>30U</td>\n",
       "      <td>0.374459</td>\n",
       "      <td>1.776046</td>\n",
       "      <td>-0.034608</td>\n",
       "      <td>1.057135</td>\n",
       "      <td>3.992122</td>\n",
       "      <td>77.831133</td>\n",
       "      <td>1418237477800245.jpg</td>\n",
       "      <td>38150</td>\n",
       "    </tr>\n",
       "    <tr>\n",
       "      <th>1876</th>\n",
       "      <th>1418237481799702.jpg</th>\n",
       "      <td>1.418237e+09</td>\n",
       "      <td>INS_SOLUTION_GOOD</td>\n",
       "      <td>51.760616</td>\n",
       "      <td>-1.261143</td>\n",
       "      <td>106.955395</td>\n",
       "      <td>5.735844e+06</td>\n",
       "      <td>620004.856797</td>\n",
       "      <td>-106.955395</td>\n",
       "      <td>30U</td>\n",
       "      <td>0.227145</td>\n",
       "      <td>1.015413</td>\n",
       "      <td>-0.087566</td>\n",
       "      <td>2.695635</td>\n",
       "      <td>2.555356</td>\n",
       "      <td>77.053031</td>\n",
       "      <td>1418237481799702.jpg</td>\n",
       "      <td>38214</td>\n",
       "    </tr>\n",
       "    <tr>\n",
       "      <th>1877</th>\n",
       "      <th>1418237485361717.jpg</th>\n",
       "      <td>1.418237e+09</td>\n",
       "      <td>INS_SOLUTION_GOOD</td>\n",
       "      <td>51.760625</td>\n",
       "      <td>-1.261076</td>\n",
       "      <td>106.962010</td>\n",
       "      <td>5.735845e+06</td>\n",
       "      <td>620009.457797</td>\n",
       "      <td>-106.962010</td>\n",
       "      <td>30U</td>\n",
       "      <td>0.081973</td>\n",
       "      <td>0.383761</td>\n",
       "      <td>0.029722</td>\n",
       "      <td>3.222464</td>\n",
       "      <td>0.015281</td>\n",
       "      <td>78.499447</td>\n",
       "      <td>1418237485361717.jpg</td>\n",
       "      <td>38271</td>\n",
       "    </tr>\n",
       "    <tr>\n",
       "      <th>1878</th>\n",
       "      <th>1418237488048854.jpg</th>\n",
       "      <td>1.418237e+09</td>\n",
       "      <td>INS_SOLUTION_GOOD</td>\n",
       "      <td>51.760625</td>\n",
       "      <td>-1.261075</td>\n",
       "      <td>106.951091</td>\n",
       "      <td>5.735845e+06</td>\n",
       "      <td>620009.526495</td>\n",
       "      <td>-106.951091</td>\n",
       "      <td>30U</td>\n",
       "      <td>0.006053</td>\n",
       "      <td>-0.003959</td>\n",
       "      <td>0.022816</td>\n",
       "      <td>186.039919</td>\n",
       "      <td>6.985812</td>\n",
       "      <td>4502.119416</td>\n",
       "      <td>1418237488048854.jpg</td>\n",
       "      <td>38313</td>\n",
       "    </tr>\n",
       "  </tbody>\n",
       "</table>\n",
       "<p>1879 rows × 17 columns</p>\n",
       "</div>"
      ]
     },
     "metadata": {},
     "execution_count": 7
    }
   ],
   "metadata": {}
  },
  {
   "cell_type": "code",
   "execution_count": 8,
   "source": [
    "imgs = df.img.values\n",
    "imgs, len(imgs)"
   ],
   "outputs": [
    {
     "output_type": "execute_result",
     "data": {
      "text/plain": [
       "(array(['1418235093751464.jpg', '1418235158429962.jpg',\n",
       "        '1418235159304840.jpg', ..., '1418237481799702.jpg',\n",
       "        '1418237485361717.jpg', '1418237488048854.jpg'], dtype=object),\n",
       " 1879)"
      ]
     },
     "metadata": {},
     "execution_count": 8
    }
   ],
   "metadata": {}
  },
  {
   "cell_type": "code",
   "execution_count": 9,
   "source": [
    "from shutil import copyfile\n",
    "from tqdm.auto import tqdm"
   ],
   "outputs": [],
   "metadata": {}
  },
  {
   "cell_type": "code",
   "execution_count": 10,
   "source": [
    "src_file = os.path.join(src, route, 'stereo/centre', imgs[0])\n",
    "dest_file = os.path.join(dest, route, imgs[0])\n",
    "\n",
    "src_file, dest_file"
   ],
   "outputs": [
    {
     "output_type": "execute_result",
     "data": {
      "text/plain": [
       "('/cephshare/compsci/public/oxford_robotcar/2014-12-10-18-10-50/stereo/centre/1418235093751464.jpg',\n",
       " '/fastscratch/compsci/sarav/data/oxford_robotcar_sampled/2014-12-10-18-10-50/1418235093751464.jpg')"
      ]
     },
     "metadata": {},
     "execution_count": 10
    }
   ],
   "metadata": {}
  },
  {
   "cell_type": "code",
   "execution_count": 11,
   "source": [
    "os.makedirs(os.path.join(dest, route), exist_ok=True)\n",
    "\n",
    "for img in tqdm(imgs):\n",
    "    src_file = os.path.join(src, route, 'stereo/centre', img)\n",
    "    dest_file = os.path.join(dest, route, img)\n",
    "    copyfile(src_file, dest_file)"
   ],
   "outputs": [
    {
     "output_type": "display_data",
     "data": {
      "text/plain": [
       "  0%|          | 0/1879 [00:00<?, ?it/s]"
      ],
      "application/vnd.jupyter.widget-view+json": {
       "version_major": 2,
       "version_minor": 0,
       "model_id": "68143cc2579747b0bb967bf9c336131b"
      }
     },
     "metadata": {}
    }
   ],
   "metadata": {}
  }
 ],
 "metadata": {
  "orig_nbformat": 4,
  "language_info": {
   "name": "python",
   "version": "3.8.10",
   "mimetype": "text/x-python",
   "codemirror_mode": {
    "name": "ipython",
    "version": 3
   },
   "pygments_lexer": "ipython3",
   "nbconvert_exporter": "python",
   "file_extension": ".py"
  },
  "kernelspec": {
   "name": "python3",
   "display_name": "Python 3.8.10 64-bit ('.venv')"
  },
  "interpreter": {
   "hash": "73d083bae306986bd1c0ce47c5634b091a23d35bfb5ba0a512502e8696c90c0a"
  }
 },
 "nbformat": 4,
 "nbformat_minor": 2
}