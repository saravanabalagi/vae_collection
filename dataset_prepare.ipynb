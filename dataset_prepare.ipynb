{
 "cells": [
  {
   "cell_type": "code",
   "execution_count": 70,
   "source": [
    "from PIL import Image\n",
    "from tqdm.auto import tqdm\n",
    "from torchvision import transforms\n",
    "from random import shuffle\n",
    "import glob\n",
    "import pickle\n",
    "import os"
   ],
   "outputs": [],
   "metadata": {}
  },
  {
   "cell_type": "code",
   "execution_count": 71,
   "source": [
    "root = 'data/oxford_robotcar'\n",
    "filenames = glob.glob(f'{root}/**/*.jpg')\n",
    "\n",
    "len(filenames)"
   ],
   "outputs": [
    {
     "output_type": "execute_result",
     "data": {
      "text/plain": [
       "5491"
      ]
     },
     "metadata": {},
     "execution_count": 71
    }
   ],
   "metadata": {}
  },
  {
   "cell_type": "code",
   "execution_count": 72,
   "source": [
    "shuffle(filenames)\n",
    "\n",
    "start = 0\n",
    "end = len(filenames)\n",
    "filenames_split = {\n",
    "    'train': filenames[0 : int(end * 0.6)],\n",
    "    'valid': filenames[int(end * 0.6) : int(end * 0.8)],\n",
    "    'test': filenames[int(end * 0.8) : end],\n",
    "}\n",
    "\n",
    "len(filenames_split['train']), len(filenames_split['valid']), len(filenames_split['test'])"
   ],
   "outputs": [
    {
     "output_type": "execute_result",
     "data": {
      "text/plain": [
       "(3294, 1098, 1099)"
      ]
     },
     "metadata": {},
     "execution_count": 72
    }
   ],
   "metadata": {}
  },
  {
   "cell_type": "code",
   "execution_count": 76,
   "source": [
    "pickle_file = os.path.join(root, f'filenames_split.pickle')\n",
    "with open(pickle_file, 'wb') as f:\n",
    "    pickle.dump(filenames_split, f)"
   ],
   "outputs": [],
   "metadata": {}
  },
  {
   "cell_type": "code",
   "execution_count": 73,
   "source": [
    "def pretransform(X):\n",
    "    X = transforms.functional.crop(X, 0, 0, 800, 1280)  # crop hood\n",
    "    X = transforms.functional.resize(X, size=140)\n",
    "    return X"
   ],
   "outputs": [],
   "metadata": {}
  },
  {
   "cell_type": "code",
   "execution_count": 79,
   "source": [
    "split = 'test'\n",
    "\n",
    "imgs = []\n",
    "for f in tqdm(filenames_split[split]):\n",
    "    img = Image.open(f)\n",
    "    img = pretransform(img)\n",
    "    imgs.append(img)"
   ],
   "outputs": [
    {
     "output_type": "display_data",
     "data": {
      "text/plain": [
       "  0%|          | 0/1099 [00:00<?, ?it/s]"
      ],
      "application/vnd.jupyter.widget-view+json": {
       "version_major": 2,
       "version_minor": 0,
       "model_id": "21a64175bbec4caa8e870091c84f1c2d"
      }
     },
     "metadata": {}
    }
   ],
   "metadata": {}
  },
  {
   "cell_type": "code",
   "execution_count": 80,
   "source": [
    "pickle_file = os.path.join(root, f'data_{split}.pickle')\n",
    "with open(pickle_file, 'wb') as f:\n",
    "    pickle.dump(imgs, f)"
   ],
   "outputs": [],
   "metadata": {}
  }
 ],
 "metadata": {
  "orig_nbformat": 4,
  "language_info": {
   "name": "python"
  }
 },
 "nbformat": 4,
 "nbformat_minor": 2
}