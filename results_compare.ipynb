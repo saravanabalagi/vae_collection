{
 "cells": [
  {
   "cell_type": "code",
   "execution_count": 1,
   "source": [
    "import numpy as np\n",
    "from imshowtools import imshow\n",
    "from PIL import Image\n",
    "import os\n",
    "\n",
    "from ipywidgets import interact\n",
    "from ipywidgets.widgets import SelectionSlider, IntSlider\n",
    "import re"
   ],
   "outputs": [],
   "metadata": {}
  },
  {
   "cell_type": "code",
   "execution_count": 2,
   "source": [
    "@interact\n",
    "def get_exp_name(exp=SelectionSlider(options=os.listdir('logs'), continuous_update=False)):\n",
    "\n",
    "    exp_dir = f'logs/{exp}'\n",
    "    versions = [int(d.replace('version_', '')) for d in os.listdir(exp_dir) if len(os.listdir(f'{exp_dir}/{d}/media')) > 0]\n",
    "\n",
    "    @interact\n",
    "    def get_config(version=SelectionSlider(options=versions, continuous_update=False)):\n",
    "        version_dir = f'logs/VanillaVAE/version_{version}'\n",
    "        config_file = os.path.join(version_dir, 'config.yaml')\n",
    "        with open(config_file, 'r') as f:\n",
    "            config = f.read()\n",
    "\n",
    "        files = os.listdir(os.path.join(version_dir, 'media'))\n",
    "        match = re.match('epoch_([0-9]*)', files[-1])\n",
    "        max_epoch = int(match[1])\n",
    "\n",
    "        @interact\n",
    "        def get_imgs(epoch=IntSlider(value=0, min=0, max=max_epoch, continuous_update=False)):\n",
    "            img_input = f'epoch_{epoch}_input.png'\n",
    "            img_recons = f'epoch_{epoch}_recons.png'\n",
    "            img_samples = f'epoch_{epoch}_samples.png'\n",
    "            img_paths = [img_input, img_recons, img_samples]\n",
    "\n",
    "            imgs = [np.asarray(Image.open(os.path.join(version_dir, 'media', p))) for p in img_paths]\n",
    "            imshow(*imgs, title=img_paths, size=(30, 30))\n",
    "\n",
    "            print('Configuration:\\n')\n",
    "            print(config)\n",
    "\n",
    "        return None"
   ],
   "outputs": [
    {
     "output_type": "display_data",
     "data": {
      "text/plain": [
       "interactive(children=(SelectionSlider(continuous_update=False, description='exp', options=('VanillaVAE',), val…"
      ],
      "application/vnd.jupyter.widget-view+json": {
       "version_major": 2,
       "version_minor": 0,
       "model_id": "c3368460e26d4a9585f55a5517097214"
      }
     },
     "metadata": {}
    }
   ],
   "metadata": {}
  }
 ],
 "metadata": {
  "orig_nbformat": 4,
  "language_info": {
   "name": "python",
   "version": "3.8.10",
   "mimetype": "text/x-python",
   "codemirror_mode": {
    "name": "ipython",
    "version": 3
   },
   "pygments_lexer": "ipython3",
   "nbconvert_exporter": "python",
   "file_extension": ".py"
  },
  "kernelspec": {
   "name": "python3",
   "display_name": "Python 3.8.10 64-bit ('.venv')"
  },
  "interpreter": {
   "hash": "5efcc683b9ef561cc378917a73fee1bb5d4e7de1b07365832538cff3419fdaaa"
  }
 },
 "nbformat": 4,
 "nbformat_minor": 2
}